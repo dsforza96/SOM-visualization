{
 "cells": [
  {
   "cell_type": "markdown",
   "metadata": {},
   "source": [
    "## 188.413 Self organizing systems \n",
    "### Evaluation report 3\n",
    "#### Davide Sforza (12006440), Lorenz Bacca (01552268)"
   ]
  },
  {
   "cell_type": "code",
   "execution_count": 49,
   "metadata": {},
   "outputs": [
    {
     "data": {
      "text/html": [
       "<style>.container { width:100% !important; } .output { align-items: center; }</style>"
      ],
      "text/plain": [
       "<IPython.core.display.HTML object>"
      ]
     },
     "metadata": {},
     "output_type": "display_data"
    }
   ],
   "source": [
    "from IPython.core.display import display, HTML\n",
    "display(HTML(\"<style>.container { width:100% !important; } .output { align-items: center; }</style>\"))"
   ]
  },
  {
   "cell_type": "code",
   "execution_count": 2,
   "metadata": {},
   "outputs": [],
   "source": [
    "import numpy as np\n",
    "from scipy.spatial import distance_matrix\n",
    "\n",
    "def pmatrix(self, som_map=None, color='Viridis', idata=[], perc=18, interp='best', title=''):\n",
    "    in_distmat = distance_matrix(idata, idata)\n",
    "    radius = np.percentile(in_distmat, perc)\n",
    "    \n",
    "    distmat = distance_matrix(self.weights, idata)\n",
    "\n",
    "    pm = distmat <= radius\n",
    "    pm = np.sum(pm, axis=-1)\n",
    "\n",
    "    if som_map == None:\n",
    "        return self.plot(pm.reshape(self.m, self.n), color=color, interp=interp, title=title)    \n",
    "    else:\n",
    "        som_map.data[0].z = pm.reshape(self.m,self.n)"
   ]
  },
  {
   "cell_type": "code",
   "execution_count": 3,
   "metadata": {},
   "outputs": [],
   "source": [
    "from scipy.ndimage import correlate\n",
    "\n",
    "def umatrix(self, som_map=None, color='Viridis', interp='best', title=''):\n",
    "    m, n = self.m, self.n\n",
    "    mm, nn = m * 2 - 1, n * 2 - 1\n",
    "    \n",
    "    idx1 = np.kron(np.arange(m * n).reshape(m, n), np.ones((2, 2)))\n",
    "    \n",
    "    k1 = np.array([0, 1] * n)[None, :]\n",
    "    k2 = np.array([0, n] * m)[:, None]\n",
    "    idx2 = idx1 + k1 + k2\n",
    "    \n",
    "    idx1 = idx1[:-1, :-1].astype(np.int32).ravel()\n",
    "    idx2 = idx2[:-1, :-1].astype(np.int32).ravel()\n",
    "    \n",
    "    dist = np.sqrt(np.sum(np.square(self.weights[idx1] - self.weights[idx2]), axis=-1))\n",
    "    um = dist.reshape(mm, nn)\n",
    "    \n",
    "    w = [[0, 1, 0],\n",
    "         [1, 0, 1],\n",
    "         [0, 1, 0]]\n",
    "    \n",
    "    corr = correlate(um, w) / 4\n",
    "    \n",
    "    mask = np.zeros((mm, nn), dtype=np.bool)\n",
    "    \n",
    "    for i in range(mm):\n",
    "        for j in range(nn):\n",
    "            mask[i, j] = i & 1 == j & 1\n",
    "            \n",
    "    um[mask] = corr[mask]\n",
    "\n",
    "    if som_map == None:\n",
    "        return self.plot(um, color=color, interp=interp, title=title)    \n",
    "    else:\n",
    "        som_map.data[0].z = um"
   ]
  },
  {
   "cell_type": "code",
   "execution_count": 4,
   "metadata": {},
   "outputs": [],
   "source": [
    "from scipy.ndimage import zoom\n",
    "\n",
    "def usmatrix(self, som_map=None, color='Viridis', idata=[], perc=10, interp='best', title=''):\n",
    "    pm = self.pmatrix(idata=idata, perc=perc).data[0].z\n",
    "    um = self.umatrix().data[0].z\n",
    "    \n",
    "    pm = zoom(pm, [u / p for u, p in zip(um.shape, pm.shape)])\n",
    "    \n",
    "    usm = um * (pm - np.mean(pm)) / (np.mean(pm) - np.min(pm))\n",
    "    \n",
    "    if som_map == None:\n",
    "        return self.plot(usm, color=color, interp=interp, title=title)    \n",
    "    else:\n",
    "        som_map.data[0].z = usm"
   ]
  },
  {
   "cell_type": "code",
   "execution_count": 5,
   "metadata": {},
   "outputs": [],
   "source": [
    "def qe(self, som_map=None, color='Viridis', idata=[], interp=None, title=''):\n",
    "    dist = distance_matrix(self.weights, idata)\n",
    "    bmu = np.argmin(dist, axis=0)\n",
    "\n",
    "    idx = np.arange(self.m * self.n)[:, None] == bmu[None, :]\n",
    "    qe = np.sum(np.where(idx, dist, 0), axis=-1)\n",
    "\n",
    "    if som_map == None:\n",
    "        return self.plot(qe.reshape(self.m, self.n), color=color, interp=interp, title=title)    \n",
    "    else:\n",
    "        som_map.data[0].z = qe.reshape(self.m,self.n)"
   ]
  },
  {
   "cell_type": "code",
   "execution_count": 6,
   "metadata": {},
   "outputs": [],
   "source": [
    "def mqe(self, som_map=None, color='Viridis', idata=[], interp=None, title=''):\n",
    "    dist = distance_matrix(self.weights, idata)\n",
    "    bmu = np.argmin(dist, axis=0)\n",
    "\n",
    "    idx = np.arange(self.m * self.n)[:, None] == bmu[None, :]\n",
    "    qe = np.sum(np.where(idx, dist, 0), axis=-1)\n",
    "\n",
    "    count = np.sum(idx, axis=-1)\n",
    "    mqe = np.divide(qe, count, out=np.zeros_like(qe), where=count != 0)\n",
    "\n",
    "    if som_map == None:\n",
    "        return self.plot(mqe.reshape(self.m, self.n), color=color, interp=interp, title=title)    \n",
    "    else:\n",
    "        som_map.data[0].z = mqe.reshape(self.m,self.n)"
   ]
  },
  {
   "cell_type": "code",
   "execution_count": 7,
   "metadata": {},
   "outputs": [],
   "source": [
    "import plotly.graph_objects as go\n",
    "from ipywidgets import Layout, HBox, Box, widgets, interact\n",
    "\n",
    "\n",
    "class SomViz:\n",
    "    def __init__(self, weights=[], m=None, n=None):\n",
    "        self.weights = weights\n",
    "        self.m = m\n",
    "        self.n = n\n",
    "        \n",
    "    umatrix = umatrix\n",
    "    pmatrix = pmatrix\n",
    "    usmatrix = usmatrix\n",
    "    qe = qe\n",
    "    mqe = mqe\n",
    "\n",
    "    # comment here on umatrix -> dmatrix\n",
    "    def dmatrix(self, som_map=None, color=\"Viridis\", interp=\"best\", title=\"\"):\n",
    "        um = np.zeros((self.m * self.n, 1))\n",
    "        neuron_locs = list()\n",
    "        for i in range(self.m):\n",
    "            for j in range(self.n):\n",
    "                neuron_locs.append(np.array([i, j]))\n",
    "        neuron_distmat = distance_matrix(neuron_locs,neuron_locs)\n",
    "\n",
    "        for i in range(self.m * self.n):\n",
    "            neighbor_idxs = neuron_distmat[i] <= 1\n",
    "            neighbor_weights = self.weights[neighbor_idxs]\n",
    "            um[i] = distance_matrix(np.expand_dims(self.weights[i], 0), neighbor_weights).mean()\n",
    "\n",
    "        if som_map == None: return self.plot(um.reshape(self.m,self.n), color=color, interp=interp, title=title)    \n",
    "        else: som_map.data[0].z = um.reshape(self.m,self.n)\n",
    "            \n",
    "\n",
    "    def hithist(self, som_map=None, idata=[], color=\"RdBu\", interp=\"best\", title=\"\"):\n",
    "        hist = [0] * self.n * self.m\n",
    "        for v in idata: \n",
    "            position = np.argmin(np.sqrt(np.sum(np.power(self.weights - v, 2), axis=1)))\n",
    "            hist[position] += 1    \n",
    "        \n",
    "        if som_map == None: return self.plot(np.array(hist).reshape(self.m,self.n), color=color, interp=interp, title=title)        \n",
    "        else: som_map.data[0].z = np.array(hist).reshape(self.m,self.n)\n",
    "\n",
    "\n",
    "    def component_plane(self, som_map=None, component=0, color=\"Viridis\", interp = \"best\", title=\"\"):\n",
    "        if som_map == None: return self.plot(self.weights[:,component].reshape(-1,self.n), color=color, interp=interp, title=title)   \n",
    "        else: som_map.data[0].z = self.weights[:,component].reshape(-1,n)\n",
    "\n",
    "\n",
    "    def sdh(self, som_map=None, idata=[], sdh_type=1, factor=1, draw=True, color=\"Cividis\", interp = \"best\", title=\"\"):\n",
    "        import heapq\n",
    "        sdh_m = [0] * self.m * self.n\n",
    "\n",
    "        cs = 0\n",
    "        for i in range(0, factor): cs += factor - i\n",
    "\n",
    "        for vector in idata:\n",
    "            dist = np.sqrt(np.sum(np.power(self.weights - vector, 2), axis=1))\n",
    "            c = heapq.nsmallest(factor, range(len(dist)), key=dist.__getitem__)\n",
    "            if (sdh_type == 1): \n",
    "                for j in range(0, factor): sdh_m[c[j]] += (factor - j) / cs  # normalized\n",
    "            if (sdh_type == 2):\n",
    "                for j in range(0, factor): sdh_m[c[j]] += 1.0 / dist[c[j]]  # based on distance\n",
    "            if (sdh_type == 3): \n",
    "                dmin = min(dist)\n",
    "                for j in range(0, factor): sdh_m[c[j]] += 1.0 - (dist[c[j]] - dmin) / (max(dist) - dmin)  \n",
    "\n",
    "        if som_map == None: return self.plot(np.array(sdh_m).reshape(-1,self.n), color=color, interp=interp, title=title)      \n",
    "        else: som_map.data[0].z = np.array(sdh_m).reshape(-1,self.n)\n",
    "\n",
    "    \n",
    "    def project_data(self, som_m=None, idata=[], title=\"\"):\n",
    "        data_y = []\n",
    "        data_x = []\n",
    "        for v in idata:\n",
    "            position = np.argmin(np.sqrt(np.sum(np.power(self.weights - v, 2), axis=1)))\n",
    "            x,y = position % self.n, position // self.n\n",
    "            data_x.extend([x])\n",
    "            data_y.extend([y])\n",
    "            \n",
    "        if som_m != None: som_m.add_trace(go.Scatter(x=data_x, y=data_y, mode=\"markers\", marker_color=\"rgba(255, 255, 255, 0.8)\"))\n",
    "    \n",
    "\n",
    "    def time_series(self, som_m=None, idata=[], wsize=50, title=\"\"):\n",
    "        data_y = []\n",
    "        data_x = [i for i in range(0,len(idata))]\n",
    "        \n",
    "        data_x2 = []\n",
    "        data_y2 = []\n",
    "        \n",
    "        qmin = np.Inf\n",
    "        qmax = 0\n",
    "        \n",
    "        step=1\n",
    "        \n",
    "        ps = []\n",
    "        for v in idata:\n",
    "            matrix = np.sqrt(np.sum(np.power(self.weights - v, 2), axis=1))\n",
    "            position = np.argmin(matrix)\n",
    "            qerror = matrix[position]\n",
    "            if qmin > qerror: qmin = qerror\n",
    "            if qmax < qerror: qmax = qerror\n",
    "            ps.append((position, qerror))\n",
    "       \n",
    "        markerc=[]    \n",
    "        for v in ps:\n",
    "            data_y.extend([v[0]])\n",
    "            rez = v[1] / qmax\n",
    " \n",
    "            markerc.append('rgba(0, 0, 0, '+str(rez)+')') \n",
    "            \n",
    "            x,y = v[0] % self.n, v[0] // self.n \n",
    "            if    x == 0: y = np.random.uniform(low=y, high=y+.1)\n",
    "            elif  x == self.m - 1: y = np.random.uniform(low=y-.1, high=y)\n",
    "            elif  y == 0: x = np.random.uniform(low=x, high=x+.1)\n",
    "            elif  y == self.n - 1: x = np.random.uniform(low=x-.1, high=x)\n",
    "            else: x, y = np.random.uniform(low=x-.1, high=x+.1), np.random.uniform(low=y-.1, high=y+.1)                           \n",
    "            \n",
    "            data_x2.extend([x])\n",
    "            data_y2.extend([y]) \n",
    "    \n",
    "        ts_plot = go.FigureWidget(go.Scatter(x=[], y=[], mode=\"markers\", marker_color=markerc, marker=dict(colorscale=\"Viridis\", showscale=True, color=np.random.randn(500))))\n",
    "        ts_plot.update_xaxes(range=[0, wsize])       \n",
    "\n",
    "        ts_plot.data[0].x, ts_plot.data[0].y = data_x, data_y\n",
    "        som_m.add_trace(go.Scatter(x=data_x2, y=data_y2, mode=\"markers\"))\n",
    "  \n",
    "        som_m.layout.height = 500\n",
    "        ts_plot.layout.height = 500\n",
    "        som_m.layout.width = 500\n",
    "        ts_plot.layout.width = 1300\n",
    "        \n",
    "        return HBox([go.FigureWidget(som_m), go.FigureWidget(ts_plot)])\n",
    "\n",
    "\n",
    "    def plot(self, matrix, color=\"Viridis\", interp = \"best\", title=\"\"):\n",
    "        return go.FigureWidget(go.Heatmap(z=matrix, zsmooth=interp, colorscale=color), layout=go.Layout(width=700*self.n/self.m,title=title, height=700, title_x=0.5))"
   ]
  },
  {
   "cell_type": "code",
   "execution_count": 8,
   "metadata": {},
   "outputs": [],
   "source": [
    "import pandas as pd\n",
    "import gzip\n",
    "\n",
    "\n",
    "class SOMToolBox_Parse:\n",
    "    def __init__(self, filename):\n",
    "        self.filename = filename\n",
    "\n",
    "\n",
    "    def read_weight_file(self,):\n",
    "        df = pd.DataFrame()\n",
    "        if self.filename[-3:len(self.filename)] == '.gz':\n",
    "            with gzip.open(self.filename, 'rb') as file:\n",
    "                df, vec_dim, xdim, ydim = self._read_vector_file_to_df(df, file)\n",
    "        else:\n",
    "            with open(self.filename, 'rb') as file:\n",
    "                df, vec_dim, xdim, ydim = self._read_vector_file_to_df(df, file)\n",
    "\n",
    "        file.close()            \n",
    "        return df.astype('float64'), vec_dim, xdim, ydim\n",
    "\n",
    "\n",
    "    def _read_vector_file_to_df(self, df, file):\n",
    "        xdim, ydim, vec_dim, position = 0, 0, 0, 0\n",
    "        for byte in file:\n",
    "            line = byte.decode('UTF-8')\n",
    "            if line.startswith('$'):\n",
    "                xdim, ydim, vec_dim = self._parse_vector_file_metadata(line, xdim, ydim, vec_dim)\n",
    "                if xdim > 0 and ydim > 0 and len(df.columns) == 0:\n",
    "                    df = pd.DataFrame(index=range(0, ydim * xdim), columns=range(0, vec_dim))\n",
    "            else:\n",
    "                if len(df.columns) == 0 or vec_dim == 0:\n",
    "                    raise ValueError('Weight file has no correct Dimensional information.')\n",
    "                position = self._parse_weight_file_data(line, position, vec_dim, df)\n",
    "        return df, vec_dim, xdim, ydim\n",
    "\n",
    "\n",
    "    def _parse_weight_file_data(self, line, position, vec_dim, df):\n",
    "        splitted=line.split(' ')\n",
    "        try:\n",
    "            df.values[position] = list(np.array(splitted[0:vec_dim]).astype(float))\n",
    "            position += 1\n",
    "        except: raise ValueError('The input-vector file does not match its unit-dimension.') \n",
    "        return  position\n",
    "\n",
    "\n",
    "    def _parse_vector_file_metadata(self, line, xdim, ydim, vec_dim):\n",
    "        splitted = line.split(' ')\n",
    "        if splitted[0] == '$XDIM':      xdim = int(splitted[1])\n",
    "        elif splitted[0] == '$YDIM':    ydim = int(splitted[1])\n",
    "        elif splitted[0] == '$VEC_DIM': vec_dim = int(splitted[1])\n",
    "        return xdim, ydim, vec_dim  "
   ]
  },
  {
   "cell_type": "code",
   "execution_count": 9,
   "metadata": {},
   "outputs": [],
   "source": [
    "import minisom as som\n",
    "from sklearn.preprocessing import MinMaxScaler\n",
    "\n",
    "small_m, small_n = 40, 20\n",
    "large_m, large_n = 100, 60"
   ]
  },
  {
   "cell_type": "markdown",
   "metadata": {},
   "source": [
    "### Chainlink small"
   ]
  },
  {
   "cell_type": "code",
   "execution_count": 39,
   "metadata": {},
   "outputs": [
    {
     "name": "stdout",
     "output_type": "stream",
     "text": [
      " [ 30000 / 30000 ] 100% 0.02010 it/s"
     ]
    }
   ],
   "source": [
    "# Train\n",
    "chainlink = SOMToolBox_Parse('datasets/chainlink.vec')\n",
    "chainlink, _, _, _ = chainlink.read_weight_file()\n",
    "chainlink = MinMaxScaler().fit_transform(chainlink)\n",
    "chainlink_dim = chainlink.shape[-1]\n",
    "\n",
    "chainlink_small = som.MiniSom(small_m, small_n, chainlink_dim, sigma=0.5, learning_rate=0.1)\n",
    "chainlink_small.train_random(chainlink, 30000, verbose=True)\n",
    "\n",
    "# Visualizaton\n",
    "chainlink_small_viz = SomViz(chainlink_small._weights.reshape(-1, chainlink_dim), small_m, small_n)"
   ]
  },
  {
   "cell_type": "code",
   "execution_count": 40,
   "metadata": {},
   "outputs": [
    {
     "data": {
      "application/vnd.jupyter.widget-view+json": {
       "model_id": "89304f00545e49529a10f557fdb1072e",
       "version_major": 2,
       "version_minor": 0
      },
      "text/plain": [
       "HBox(children=(FigureWidget({\n",
       "    'data': [{'colorscale': [[0.0, '#440154'], [0.1111111111111111, '#482878'],\n",
       "…"
      ]
     },
     "metadata": {},
     "output_type": "display_data"
    }
   ],
   "source": [
    "chainlink_small_pm1 = chainlink_small_viz.pmatrix(color='viridis', idata=chainlink, perc=1, title='P-matrix (1 percentile)')\n",
    "chainlink_small_pm5 = chainlink_small_viz.pmatrix(color='viridis', idata=chainlink, perc=5, title='P-matrix (5 percentile)')\n",
    "chainlink_small_pm18 = chainlink_small_viz.pmatrix(color='viridis', idata=chainlink, perc=18, title='P-matrix (18 percentile)')\n",
    "chainlink_small_pm50 = chainlink_small_viz.pmatrix(color='viridis', idata=chainlink, perc=50, title='P-matrix (50 percentile)')\n",
    "\n",
    "display(HBox([chainlink_small_pm1, chainlink_small_pm5, chainlink_small_pm18, chainlink_small_pm50]))"
   ]
  },
  {
   "cell_type": "code",
   "execution_count": 41,
   "metadata": {},
   "outputs": [
    {
     "data": {
      "application/vnd.jupyter.widget-view+json": {
       "model_id": "b5746b6b31554d129877e6f4682647f7",
       "version_major": 2,
       "version_minor": 0
      },
      "text/plain": [
       "HBox(children=(FigureWidget({\n",
       "    'data': [{'colorscale': [[0.0, '#440154'], [0.1111111111111111, '#482878'],\n",
       "…"
      ]
     },
     "metadata": {},
     "output_type": "display_data"
    }
   ],
   "source": [
    "chainlink_small_um = chainlink_small_viz.umatrix(color='viridis', title='U-matrix')\n",
    "\n",
    "chainlink_small_usm1 = chainlink_small_viz.usmatrix(color='viridis', idata=chainlink, perc=1, title='U*-matrix (1 percentile)')\n",
    "chainlink_small_usm5 = chainlink_small_viz.usmatrix(color='viridis', idata=chainlink, perc=5, title='U*-matrix (5 percentile)')\n",
    "chainlink_small_usm18 = chainlink_small_viz.usmatrix(color='viridis', idata=chainlink, perc=18, title='U*-matrix (18 percentile)')\n",
    "chainlink_small_usm50 = chainlink_small_viz.usmatrix(color='viridis', idata=chainlink, perc=50, title='U*-matrix (50 percentile)')\n",
    "\n",
    "display(HBox([chainlink_small_um, chainlink_small_usm1, chainlink_small_usm5, chainlink_small_usm18, chainlink_small_usm50]))"
   ]
  },
  {
   "cell_type": "code",
   "execution_count": 42,
   "metadata": {},
   "outputs": [
    {
     "data": {
      "application/vnd.jupyter.widget-view+json": {
       "model_id": "56d3022215fe44d2aa4f09187a063e02",
       "version_major": 2,
       "version_minor": 0
      },
      "text/plain": [
       "HBox(children=(FigureWidget({\n",
       "    'data': [{'colorscale': [[0.0, '#440154'], [0.1111111111111111, '#482878'],\n",
       "…"
      ]
     },
     "metadata": {},
     "output_type": "display_data"
    }
   ],
   "source": [
    "chainlink_small_qe = chainlink_small_viz.qe(color='viridis', idata=chainlink, title='Quantization error ')\n",
    "chainlink_small_mqe = chainlink_small_viz.mqe(color='viridis', idata=chainlink, title='Mean quantization error ')\n",
    "\n",
    "display(HBox([chainlink_small_qe, chainlink_small_mqe]))"
   ]
  },
  {
   "cell_type": "markdown",
   "metadata": {},
   "source": [
    "### Chainlink large"
   ]
  },
  {
   "cell_type": "code",
   "execution_count": 18,
   "metadata": {},
   "outputs": [
    {
     "name": "stdout",
     "output_type": "stream",
     "text": [
      " [ 10000 / 10000 ] 100% 0.11567 it/s"
     ]
    }
   ],
   "source": [
    "chainlink_large = som.MiniSom(large_m, large_n, chainlink_dim, sigma=0.8, learning_rate=0.7)\n",
    "chainlink_large.train_random(chainlink, 10000, verbose=True)\n",
    "\n",
    "# Visualizaton\n",
    "chainlink_large_viz = SomViz(chainlink_large._weights.reshape(-1, chainlink_dim), large_m, large_n)"
   ]
  },
  {
   "cell_type": "code",
   "execution_count": 19,
   "metadata": {},
   "outputs": [
    {
     "data": {
      "application/vnd.jupyter.widget-view+json": {
       "model_id": "87a440dc9e6d4b5eab878717936e2e82",
       "version_major": 2,
       "version_minor": 0
      },
      "text/plain": [
       "HBox(children=(FigureWidget({\n",
       "    'data': [{'colorscale': [[0.0, '#440154'], [0.1111111111111111, '#482878'],\n",
       "…"
      ]
     },
     "metadata": {},
     "output_type": "display_data"
    }
   ],
   "source": [
    "chainlink_large_pm1 = chainlink_large_viz.pmatrix(color='viridis', idata=chainlink, perc=1, title='P-matrix (1 percentile)')\n",
    "chainlink_large_pm5 = chainlink_large_viz.pmatrix(color='viridis', idata=chainlink, perc=5, title='P-matrix (5 percentile)')\n",
    "chainlink_large_pm18 = chainlink_large_viz.pmatrix(color='viridis', idata=chainlink, perc=18, title='P-matrix (18 percentile)')\n",
    "chainlink_large_pm50 = chainlink_large_viz.pmatrix(color='viridis', idata=chainlink, perc=50, title='P-matrix (50 percentile)')\n",
    "\n",
    "display(HBox([chainlink_large_pm1, chainlink_large_pm5, chainlink_large_pm18, chainlink_large_pm50]))"
   ]
  },
  {
   "cell_type": "code",
   "execution_count": 20,
   "metadata": {},
   "outputs": [
    {
     "data": {
      "application/vnd.jupyter.widget-view+json": {
       "model_id": "0ac4b6d24d0640ab8b5453f9adf86be6",
       "version_major": 2,
       "version_minor": 0
      },
      "text/plain": [
       "HBox(children=(FigureWidget({\n",
       "    'data': [{'colorscale': [[0.0, '#440154'], [0.1111111111111111, '#482878'],\n",
       "…"
      ]
     },
     "metadata": {},
     "output_type": "display_data"
    }
   ],
   "source": [
    "chainlink_large_um = chainlink_large_viz.umatrix(color='viridis', title='U-matrix')\n",
    "\n",
    "chainlink_large_usm1 = chainlink_large_viz.usmatrix(color='viridis', idata=chainlink, perc=1, title='U*-matrix (1 percentile)')\n",
    "chainlink_large_usm5 = chainlink_large_viz.usmatrix(color='viridis', idata=chainlink, perc=5, title='U*-matrix (5 percentile)')\n",
    "chainlink_large_usm18 = chainlink_large_viz.usmatrix(color='viridis', idata=chainlink, perc=18, title='U*-matrix (18 percentile)')\n",
    "chainlink_large_usm50 = chainlink_large_viz.usmatrix(color='viridis', idata=chainlink, perc=50, title='U*-matrix (50 percentile)')\n",
    "\n",
    "display(HBox([chainlink_large_um, chainlink_large_usm1, chainlink_large_usm5, chainlink_large_usm18, chainlink_large_usm50]))"
   ]
  },
  {
   "cell_type": "code",
   "execution_count": 21,
   "metadata": {},
   "outputs": [
    {
     "data": {
      "application/vnd.jupyter.widget-view+json": {
       "model_id": "ee146404b68d458a8531ce55753916de",
       "version_major": 2,
       "version_minor": 0
      },
      "text/plain": [
       "HBox(children=(FigureWidget({\n",
       "    'data': [{'colorscale': [[0.0, '#440154'], [0.1111111111111111, '#482878'],\n",
       "…"
      ]
     },
     "metadata": {},
     "output_type": "display_data"
    }
   ],
   "source": [
    "chainlink_large_qe = chainlink_large_viz.qe(color='viridis', idata=chainlink, title='Quantization error ')\n",
    "chainlink_large_mqe = chainlink_large_viz.mqe(color='viridis', idata=chainlink, title='Mean quantization error ')\n",
    "\n",
    "display(HBox([chainlink_large_qe, chainlink_large_mqe]))"
   ]
  },
  {
   "cell_type": "markdown",
   "metadata": {},
   "source": [
    "### Clusters small"
   ]
  },
  {
   "cell_type": "code",
   "execution_count": 23,
   "metadata": {},
   "outputs": [
    {
     "name": "stdout",
     "output_type": "stream",
     "text": [
      " [ 10000 / 10000 ] 100% 0.01562 it/s"
     ]
    }
   ],
   "source": [
    "# Train\n",
    "clusters = SOMToolBox_Parse('datasets/clusters.vec')\n",
    "clusters, _, _, _ = clusters.read_weight_file()\n",
    "clusters = MinMaxScaler().fit_transform(clusters)\n",
    "clusters_dim = clusters.shape[-1]\n",
    "\n",
    "clusters_small = som.MiniSom(small_m, small_n, clusters_dim, sigma=0.8, learning_rate=0.7)\n",
    "clusters_small.train_random(clusters, 10000, verbose=True)\n",
    "\n",
    "# Visualizaton\n",
    "clusters_small_viz = SomViz(clusters_small._weights.reshape(-1, clusters_dim), small_m, small_n)"
   ]
  },
  {
   "cell_type": "code",
   "execution_count": 24,
   "metadata": {},
   "outputs": [
    {
     "data": {
      "application/vnd.jupyter.widget-view+json": {
       "model_id": "2b47fc02a9ad4cd0bd82b8a087cf78ca",
       "version_major": 2,
       "version_minor": 0
      },
      "text/plain": [
       "HBox(children=(FigureWidget({\n",
       "    'data': [{'colorscale': [[0.0, '#440154'], [0.1111111111111111, '#482878'],\n",
       "…"
      ]
     },
     "metadata": {},
     "output_type": "display_data"
    }
   ],
   "source": [
    "clusters_small_pm1 = clusters_small_viz.pmatrix(color='viridis', idata=clusters, perc=1, title='P-matrix (1 percentile)')\n",
    "clusters_small_pm5 = clusters_small_viz.pmatrix(color='viridis', idata=clusters, perc=5, title='P-matrix (5 percentile)')\n",
    "clusters_small_pm18 = clusters_small_viz.pmatrix(color='viridis', idata=clusters, perc=18, title='P-matrix (18 percentile)')\n",
    "clusters_small_pm50 = clusters_small_viz.pmatrix(color='viridis', idata=clusters, perc=50, title='P-matrix (50 percentile)')\n",
    "\n",
    "display(HBox([clusters_small_pm1, clusters_small_pm5, clusters_small_pm18, clusters_small_pm50]))"
   ]
  },
  {
   "cell_type": "code",
   "execution_count": 25,
   "metadata": {},
   "outputs": [
    {
     "name": "stderr",
     "output_type": "stream",
     "text": [
      "C:\\ProgramData\\Anaconda3\\lib\\site-packages\\ipykernel_launcher.py:9: RuntimeWarning:\n",
      "\n",
      "invalid value encountered in true_divide\n",
      "\n"
     ]
    },
    {
     "data": {
      "application/vnd.jupyter.widget-view+json": {
       "model_id": "51d20b35e50e4d4daa6fc54b84bf013c",
       "version_major": 2,
       "version_minor": 0
      },
      "text/plain": [
       "HBox(children=(FigureWidget({\n",
       "    'data': [{'colorscale': [[0.0, '#440154'], [0.1111111111111111, '#482878'],\n",
       "…"
      ]
     },
     "metadata": {},
     "output_type": "display_data"
    }
   ],
   "source": [
    "clusters_small_um = clusters_small_viz.umatrix(color='viridis', title='U-matrix')\n",
    "\n",
    "clusters_small_usm1 = clusters_small_viz.usmatrix(color='viridis', idata=clusters, perc=1, title='U*-matrix (1 percentile)')\n",
    "clusters_small_usm5 = clusters_small_viz.usmatrix(color='viridis', idata=clusters, perc=5, title='U*-matrix (5 percentile)')\n",
    "clusters_small_usm18 = clusters_small_viz.usmatrix(color='viridis', idata=clusters, perc=18, title='U*-matrix (18 percentile)')\n",
    "clusters_small_usm50 = clusters_small_viz.usmatrix(color='viridis', idata=clusters, perc=50, title='U*-matrix (50 percentile)')\n",
    "\n",
    "display(HBox([clusters_small_um, clusters_small_usm1, clusters_small_usm5, clusters_small_usm18, clusters_small_usm50]))"
   ]
  },
  {
   "cell_type": "code",
   "execution_count": 26,
   "metadata": {},
   "outputs": [
    {
     "data": {
      "application/vnd.jupyter.widget-view+json": {
       "model_id": "917c572ec68e486095a7fbc84540b082",
       "version_major": 2,
       "version_minor": 0
      },
      "text/plain": [
       "HBox(children=(FigureWidget({\n",
       "    'data': [{'colorscale': [[0.0, '#440154'], [0.1111111111111111, '#482878'],\n",
       "…"
      ]
     },
     "metadata": {},
     "output_type": "display_data"
    }
   ],
   "source": [
    "clusters_small_qe = clusters_small_viz.qe(color='viridis', idata=clusters, title='Quantization error ')\n",
    "clusters_small_mqe = clusters_small_viz.mqe(color='viridis', idata=clusters, title='Mean quantization error ')\n",
    "\n",
    "display(HBox([clusters_small_qe, clusters_small_mqe]))"
   ]
  },
  {
   "cell_type": "markdown",
   "metadata": {},
   "source": [
    "### Clusters large"
   ]
  },
  {
   "cell_type": "code",
   "execution_count": null,
   "metadata": {},
   "outputs": [],
   "source": [
    "clusters_large = som.MiniSom(large_m, large_n, clusters_dim, sigma=0.8, learning_rate=0.7)\n",
    "clusters_large.train_random(clusters, 10000, verbose=True)\n",
    "\n",
    "# Visualizaton\n",
    "clusters_large_viz = SomViz(clusters_large._weights.reshape(-1, clusters_dim), large_m, large_n)"
   ]
  },
  {
   "cell_type": "code",
   "execution_count": null,
   "metadata": {},
   "outputs": [],
   "source": [
    "clusters_large_pm1 = clusters_large_viz.pmatrix(color='viridis', idata=clusters, perc=1, title='P-matrix (1 percentile)')\n",
    "clusters_large_pm5 = clusters_large_viz.pmatrix(color='viridis', idata=clusters, perc=5, title='P-matrix (5 percentile)')\n",
    "clusters_large_pm18 = clusters_large_viz.pmatrix(color='viridis', idata=clusters, perc=18, title='P-matrix (18 percentile)')\n",
    "clusters_large_pm50 = clusters_large_viz.pmatrix(color='viridis', idata=clusters, perc=50, title='P-matrix (50 percentile)')\n",
    "\n",
    "display(HBox([clusters_large_pm1, clusters_large_pm5, clusters_large_pm18, clusters_large_pm50]))"
   ]
  },
  {
   "cell_type": "code",
   "execution_count": null,
   "metadata": {},
   "outputs": [],
   "source": [
    "clusters_large_um = clusters_large_viz.umatrix(color='viridis', title='U-matrix')\n",
    "\n",
    "clusters_large_usm1 = clusters_large_viz.usmatrix(color='viridis', idata=clusters, perc=1, title='U*-matrix (1 percentile)')\n",
    "clusters_large_usm5 = clusters_large_viz.usmatrix(color='viridis', idata=clusters, perc=5, title='U*-matrix (5 percentile)')\n",
    "clusters_large_usm18 = clusters_large_viz.usmatrix(color='viridis', idata=clusters, perc=18, title='U*-matrix (18 percentile)')\n",
    "clusters_large_usm50 = clusters_large_viz.usmatrix(color='viridis', idata=clusters, perc=50, title='U*-matrix (50 percentile)')\n",
    "\n",
    "display(HBox([clusters_large_um, clusters_large_usm1, clusters_large_usm5, clusters_large_usm18, clusters_large_usm50]))"
   ]
  },
  {
   "cell_type": "code",
   "execution_count": null,
   "metadata": {},
   "outputs": [],
   "source": [
    "clusters_large_qe = clusters_large_viz.qe(color='viridis', idata=clusters, title='Quantization error ')\n",
    "clusters_large_mqe = clusters_large_viz.mqe(color='viridis', idata=clusters, title='Mean quantization error ')\n",
    "\n",
    "display(HBox([clusters_large_qe, clusters_large_mqe]))"
   ]
  },
  {
   "cell_type": "markdown",
   "metadata": {},
   "source": [
    "### Iris"
   ]
  },
  {
   "cell_type": "code",
   "execution_count": 45,
   "metadata": {
    "scrolled": false
   },
   "outputs": [],
   "source": [
    "# Read from SOMToolBox\n",
    "iris = SOMToolBox_Parse('datasets/iris.vec')\n",
    "iris, _, _, _ = iris.read_weight_file()\n",
    "\n",
    "iris_pretrained = SOMToolBox_Parse('datasets/iris.wgt.gz')\n",
    "iris_pretrained, iris_dim, iris_m, iris_n = iris_pretrained.read_weight_file()\n",
    "\n",
    "# Visualizaton\n",
    "iris_viz = SomViz(iris_pretrained.values.reshape(-1, iris_dim), iris_m, iris_n)"
   ]
  },
  {
   "cell_type": "code",
   "execution_count": 46,
   "metadata": {},
   "outputs": [
    {
     "data": {
      "application/vnd.jupyter.widget-view+json": {
       "model_id": "ecd90fe4bc5a476594abd20294914f0e",
       "version_major": 2,
       "version_minor": 0
      },
      "text/plain": [
       "HBox(children=(FigureWidget({\n",
       "    'data': [{'colorscale': [[0.0, '#440154'], [0.1111111111111111, '#482878'],\n",
       "…"
      ]
     },
     "metadata": {},
     "output_type": "display_data"
    }
   ],
   "source": [
    "iris_pm1 = iris_viz.pmatrix(color='viridis', idata=iris, perc=1, title='P-matrix (1 percentile)')\n",
    "iris_pm5 = iris_viz.pmatrix(color='viridis', idata=iris, perc=5, title='P-matrix (5 percentile)')\n",
    "iris_pm18 = iris_viz.pmatrix(color='viridis', idata=iris, perc=18, title='P-matrix (18 percentile)')\n",
    "iris_pm50 = iris_viz.pmatrix(color='viridis', idata=iris, perc=50, title='P-matrix (50 percentile)')\n",
    "\n",
    "display(HBox([iris_pm1, iris_pm5, iris_pm18, iris_pm50]))"
   ]
  },
  {
   "cell_type": "code",
   "execution_count": 47,
   "metadata": {},
   "outputs": [
    {
     "data": {
      "application/vnd.jupyter.widget-view+json": {
       "model_id": "f02845722c3b4dc6b100ea346d5a691e",
       "version_major": 2,
       "version_minor": 0
      },
      "text/plain": [
       "HBox(children=(FigureWidget({\n",
       "    'data': [{'colorscale': [[0.0, '#440154'], [0.1111111111111111, '#482878'],\n",
       "…"
      ]
     },
     "metadata": {},
     "output_type": "display_data"
    }
   ],
   "source": [
    "iris_um = iris_viz.umatrix(color='viridis', title='U-matrix')\n",
    "\n",
    "iris_usm1 = iris_viz.usmatrix(color='viridis', idata=iris, perc=1, title='U*-matrix (1 percentile)')\n",
    "iris_usm5 = iris_viz.usmatrix(color='viridis', idata=iris, perc=5, title='U*-matrix (5 percentile)')\n",
    "iris_usm18 = iris_viz.usmatrix(color='viridis', idata=iris, perc=18, title='U*-matrix (18 percentile)')\n",
    "iris_usm50 = iris_viz.usmatrix(color='viridis', idata=iris, perc=50, title='U*-matrix (50 percentile)')\n",
    "\n",
    "display(HBox([iris_um, iris_usm1, iris_usm5, iris_usm18, iris_usm50]))"
   ]
  },
  {
   "cell_type": "code",
   "execution_count": 48,
   "metadata": {},
   "outputs": [
    {
     "data": {
      "application/vnd.jupyter.widget-view+json": {
       "model_id": "0478b1bcc62a46789c17280f2caeadec",
       "version_major": 2,
       "version_minor": 0
      },
      "text/plain": [
       "HBox(children=(FigureWidget({\n",
       "    'data': [{'colorscale': [[0.0, '#440154'], [0.1111111111111111, '#482878'],\n",
       "…"
      ]
     },
     "metadata": {},
     "output_type": "display_data"
    }
   ],
   "source": [
    "iris_qe = iris_viz.qe(color='viridis', idata=iris, title='Quantization error ')\n",
    "iris_mqe = iris_viz.mqe(color='viridis', idata=iris, title='Mean quantization error ')\n",
    "\n",
    "display(HBox([iris_qe, iris_mqe]))"
   ]
  }
 ],
 "metadata": {
  "kernelspec": {
   "display_name": "Python 3",
   "language": "python",
   "name": "python3"
  },
  "language_info": {
   "codemirror_mode": {
    "name": "ipython",
    "version": 3
   },
   "file_extension": ".py",
   "mimetype": "text/x-python",
   "name": "python",
   "nbconvert_exporter": "python",
   "pygments_lexer": "ipython3",
   "version": "3.7.1"
  }
 },
 "nbformat": 4,
 "nbformat_minor": 2
}
