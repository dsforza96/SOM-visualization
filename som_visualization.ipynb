{
 "cells": [
  {
   "cell_type": "markdown",
   "metadata": {},
   "source": [
    "# 188.413 Self-Organizing Systems 2020W\n",
    "## SOM Visualization\n",
    "#### Lorenz Bacca [01552268] and Davide Sforza [12006440]\n",
    "**https://github.com/dsforza96/SOM-visualization**"
   ]
  },
  {
   "cell_type": "code",
   "execution_count": 1,
   "metadata": {},
   "outputs": [
    {
     "data": {
      "text/html": [
       "<style>.container { width:100% !important; } .output { align-items: center; }</style>"
      ],
      "text/plain": [
       "<IPython.core.display.HTML object>"
      ]
     },
     "metadata": {},
     "output_type": "display_data"
    }
   ],
   "source": [
    "from IPython.core.display import display, HTML\n",
    "display(HTML(\"<style>.container { width:100% !important; } .output { align-items: center; }</style>\"))"
   ]
  },
  {
   "cell_type": "markdown",
   "metadata": {},
   "source": [
    "## 1. Implementation"
   ]
  },
  {
   "cell_type": "markdown",
   "metadata": {},
   "source": [
    "### 1.1. P-Matrix\n",
    "Our P-matrix implementation follows [A. Ultsch](https://www.researchgate.net/profile/Alfred-Ultsch/publication/228706090_Maps_for_the_visualization_of_high-dimensional_data_spaces/links/544652950cf2f14fb80f3134/Maps-for-the-visualization-of-high-dimensional-data-spaces.pdf) \"Maps for the Visualization of high-dimensional Data Spaces\". Radius can be specified through the `perc` parameter, which represent the percentile of all pairwise distances between input data. According to the author, 18 a good value for this parameter, so we set it as default."
   ]
  },
  {
   "cell_type": "code",
   "execution_count": 2,
   "metadata": {},
   "outputs": [],
   "source": [
    "import numpy as np\n",
    "from scipy.spatial import distance_matrix\n",
    "\n",
    "def pmatrix(self, som_map=None, color='Viridis', idata=[], perc=18, interp='best', title=''):\n",
    "    in_distmat = distance_matrix(idata, idata)\n",
    "    radius = np.percentile(in_distmat, perc)\n",
    "    \n",
    "    distmat = distance_matrix(self.weights, idata)\n",
    "\n",
    "    pm = distmat <= radius\n",
    "    pm = np.sum(pm, axis=-1)\n",
    "\n",
    "    if som_map == None:\n",
    "        return self.plot(pm.reshape(self.m, self.n), color=color, interp=interp, title=title)    \n",
    "    else:\n",
    "        som_map.data[0].z = pm.reshape(self.m,self.n)"
   ]
  },
  {
   "cell_type": "markdown",
   "metadata": {},
   "source": [
    "### 1.2. U-Matrix\n",
    "The implementation of the U-matrix provided in this notebook seems to compute the D-matrix instead. Thus, we decided to reimplement it and to use the given code for the D-matrix visualization (after a minor bug fix). As in the Java SOMToolbox, our implementation computes distances between adjacent units using Neumann neighborhood (four neighbors) and then interpolates values using the mean."
   ]
  },
  {
   "cell_type": "code",
   "execution_count": 3,
   "metadata": {},
   "outputs": [],
   "source": [
    "from scipy.ndimage import correlate\n",
    "\n",
    "def umatrix(self, som_map=None, color='Viridis', interp='best', title=''):\n",
    "    # Distance computation\n",
    "    m, n = self.m, self.n\n",
    "    mm, nn = m * 2 - 1, n * 2 - 1\n",
    "    \n",
    "    idx1 = np.kron(np.arange(m * n).reshape(m, n), np.ones((2, 2)))\n",
    "    \n",
    "    k1 = np.array([0, 1] * n)[None, :]\n",
    "    k2 = np.array([0, n] * m)[:, None]\n",
    "    idx2 = idx1 + k1 + k2\n",
    "    \n",
    "    idx1 = idx1[:-1, :-1].astype(np.int32).ravel()\n",
    "    idx2 = idx2[:-1, :-1].astype(np.int32).ravel()\n",
    "    \n",
    "    dist = np.sqrt(np.sum(np.square(self.weights[idx1] - self.weights[idx2]), axis=-1))\n",
    "    um = dist.reshape(mm, nn)\n",
    "    \n",
    "    # Interpolation\n",
    "    w = [[0, 1, 0],\n",
    "         [1, 0, 1],\n",
    "         [0, 1, 0]]\n",
    "    \n",
    "    corr = correlate(um, w) / 4\n",
    "    \n",
    "    mask = np.zeros((mm, nn), dtype=np.bool)\n",
    "    \n",
    "    for i in range(mm):\n",
    "        for j in range(nn):\n",
    "            mask[i, j] = i & 1 == j & 1\n",
    "            \n",
    "    um[mask] = corr[mask]\n",
    "\n",
    "    if som_map == None:\n",
    "        return self.plot(um, color=color, interp=interp, title=title)    \n",
    "    else:\n",
    "        som_map.data[0].z = um"
   ]
  },
  {
   "cell_type": "markdown",
   "metadata": {},
   "source": [
    "### 1.3. U*-Matrix\n",
    "U\\*-matrix visualization combines the U-matrix and the P-matrix via the formula described in [A. Ultsch](https://www.researchgate.net/profile/Alfred-Ultsch/publication/228530835_UMatrix_a_Tool_to_visualize_Clusters_in_high_dimensional_Data/links/544659300cf22b3c14de1c2f/UMatrix-a-Tool-to-visualize-Clusters-in-high-dimensional-Data.pdf) \"U\\*-Matrix: A Tool to Visualize Cluster in High-Dimensional Data\". P-matrix is upscaled to match the U-matrix size which is larger due to its interpolating values."
   ]
  },
  {
   "cell_type": "code",
   "execution_count": 4,
   "metadata": {},
   "outputs": [],
   "source": [
    "from scipy.ndimage import zoom\n",
    "\n",
    "def usmatrix(self, som_map=None, color='Viridis', idata=[], perc=10, interp='best', title=''):\n",
    "    pm = self.pmatrix(idata=idata, perc=perc).data[0].z\n",
    "    um = self.umatrix().data[0].z\n",
    "    \n",
    "    pm = zoom(pm, [u / p for u, p in zip(um.shape, pm.shape)])  # upscaling p-matrix\n",
    "    \n",
    "    if np.mean(pm) != np.min(pm):\n",
    "        usm = um * (pm - np.mean(pm)) / (np.mean(pm) - np.min(pm))\n",
    "    else:\n",
    "        usm = um\n",
    "    \n",
    "    if som_map == None:\n",
    "        return self.plot(usm, color=color, interp=interp, title=title)    \n",
    "    else:\n",
    "        som_map.data[0].z = usm"
   ]
  },
  {
   "cell_type": "markdown",
   "metadata": {},
   "source": [
    "### 1.4. Quantization Error (qe) and Mean Quantization Error (que)\n",
    "Quantization error (qe) and mean quantization error (mqe) are implemented here, following the definitions we saw during lecture."
   ]
  },
  {
   "cell_type": "code",
   "execution_count": 5,
   "metadata": {},
   "outputs": [],
   "source": [
    "def qe(self, som_map=None, color='Viridis', idata=[], interp=None, title=''):\n",
    "    dist = distance_matrix(self.weights, idata)\n",
    "    bmu = np.argmin(dist, axis=0)\n",
    "\n",
    "    idx = np.arange(self.m * self.n)[:, None] == bmu[None, :]\n",
    "    qe = np.sum(np.where(idx, dist, 0), axis=-1)\n",
    "\n",
    "    if som_map == None:\n",
    "        return self.plot(qe.reshape(self.m, self.n), color=color, interp=interp, title=title)    \n",
    "    else:\n",
    "        som_map.data[0].z = qe.reshape(self.m,self.n)"
   ]
  },
  {
   "cell_type": "code",
   "execution_count": 6,
   "metadata": {},
   "outputs": [],
   "source": [
    "def mqe(self, som_map=None, color='Viridis', idata=[], interp=None, title=''):\n",
    "    dist = distance_matrix(self.weights, idata)\n",
    "    bmu = np.argmin(dist, axis=0)\n",
    "\n",
    "    idx = np.arange(self.m * self.n)[:, None] == bmu[None, :]\n",
    "    qe = np.sum(np.where(idx, dist, 0), axis=-1)\n",
    "\n",
    "    count = np.sum(idx, axis=-1)\n",
    "    mqe = np.divide(qe, count, out=np.zeros_like(qe), where=count != 0)\n",
    "\n",
    "    if som_map == None:\n",
    "        return self.plot(mqe.reshape(self.m, self.n), color=color, interp=interp, title=title)    \n",
    "    else:\n",
    "        som_map.data[0].z = mqe.reshape(self.m,self.n)"
   ]
  },
  {
   "cell_type": "markdown",
   "metadata": {},
   "source": [
    "### 1.5. Code for SOM training, SOM parsing from file and some basic visualizations (provided togheter with the notebook)\n",
    "The existing U-matrix implementation is exploited to compute the D-matrix visualization."
   ]
  },
  {
   "cell_type": "code",
   "execution_count": 7,
   "metadata": {},
   "outputs": [],
   "source": [
    "import plotly.graph_objects as go\n",
    "from ipywidgets import Layout, HBox, Box, widgets, interact\n",
    "\n",
    "\n",
    "class SomViz:\n",
    "    def __init__(self, weights=[], m=None, n=None):\n",
    "        self.weights = weights\n",
    "        self.m = m\n",
    "        self.n = n\n",
    "        \n",
    "    umatrix = umatrix\n",
    "    pmatrix = pmatrix\n",
    "    usmatrix = usmatrix\n",
    "    qe = qe\n",
    "    mqe = mqe\n",
    "\n",
    "    # Exploiting the existing (probably wrong) U-matrix implementation to compute D-matrix\n",
    "    def dmatrix(self, som_map=None, color=\"Viridis\", interp=\"best\", title=\"\"):\n",
    "        um = np.zeros((self.m * self.n, 1))\n",
    "        neuron_locs = list()\n",
    "        for i in range(self.m):\n",
    "            for j in range(self.n):\n",
    "                neuron_locs.append(np.array([i, j]))\n",
    "        neuron_distmat = distance_matrix(neuron_locs,neuron_locs)\n",
    "\n",
    "        for i in range(self.m * self.n):\n",
    "            neighbor_idxs = neuron_distmat[i] <= 1\n",
    "            neighbor_weights = self.weights[neighbor_idxs]\n",
    "            # Bug-fix: the unit itself shall not be included in the mean calculation\n",
    "            um[i] = np.sum(distance_matrix(np.expand_dims(self.weights[i], 0), neighbor_weights))\n",
    "            um[i] /= (np.sum(neighbor_idxs) - 1)\n",
    "\n",
    "        if som_map == None: return self.plot(um.reshape(self.m,self.n), color=color, interp=interp, title=title)    \n",
    "        else: som_map.data[0].z = um.reshape(self.m,self.n)\n",
    "            \n",
    "\n",
    "    def hithist(self, som_map=None, idata=[], color=\"RdBu\", interp=\"best\", title=\"\"):\n",
    "        hist = [0] * self.n * self.m\n",
    "        for v in idata: \n",
    "            position = np.argmin(np.sqrt(np.sum(np.power(self.weights - v, 2), axis=1)))\n",
    "            hist[position] += 1    \n",
    "        \n",
    "        if som_map == None: return self.plot(np.array(hist).reshape(self.m,self.n), color=color, interp=interp, title=title)        \n",
    "        else: som_map.data[0].z = np.array(hist).reshape(self.m,self.n)\n",
    "\n",
    "\n",
    "    def component_plane(self, som_map=None, component=0, color=\"Viridis\", interp = \"best\", title=\"\"):\n",
    "        if som_map == None: return self.plot(self.weights[:,component].reshape(-1,self.n), color=color, interp=interp, title=title)   \n",
    "        else: som_map.data[0].z = self.weights[:,component].reshape(-1,n)\n",
    "\n",
    "\n",
    "    def sdh(self, som_map=None, idata=[], sdh_type=1, factor=1, draw=True, color=\"Cividis\", interp = \"best\", title=\"\"):\n",
    "        import heapq\n",
    "        sdh_m = [0] * self.m * self.n\n",
    "\n",
    "        cs = 0\n",
    "        for i in range(0, factor): cs += factor - i\n",
    "\n",
    "        for vector in idata:\n",
    "            dist = np.sqrt(np.sum(np.power(self.weights - vector, 2), axis=1))\n",
    "            c = heapq.nsmallest(factor, range(len(dist)), key=dist.__getitem__)\n",
    "            if (sdh_type == 1): \n",
    "                for j in range(0, factor): sdh_m[c[j]] += (factor - j) / cs  # normalized\n",
    "            if (sdh_type == 2):\n",
    "                for j in range(0, factor): sdh_m[c[j]] += 1.0 / dist[c[j]]  # based on distance\n",
    "            if (sdh_type == 3): \n",
    "                dmin = min(dist)\n",
    "                for j in range(0, factor): sdh_m[c[j]] += 1.0 - (dist[c[j]] - dmin) / (max(dist) - dmin)  \n",
    "\n",
    "        if som_map == None: return self.plot(np.array(sdh_m).reshape(-1,self.n), color=color, interp=interp, title=title)      \n",
    "        else: som_map.data[0].z = np.array(sdh_m).reshape(-1,self.n)\n",
    "\n",
    "    \n",
    "    def project_data(self, som_m=None, idata=[], title=\"\"):\n",
    "        data_y = []\n",
    "        data_x = []\n",
    "        for v in idata:\n",
    "            position = np.argmin(np.sqrt(np.sum(np.power(self.weights - v, 2), axis=1)))\n",
    "            x,y = position % self.n, position // self.n\n",
    "            data_x.extend([x])\n",
    "            data_y.extend([y])\n",
    "            \n",
    "        if som_m != None: som_m.add_trace(go.Scatter(x=data_x, y=data_y, mode=\"markers\", marker_color=\"rgba(255, 255, 255, 0.8)\"))\n",
    "    \n",
    "\n",
    "    def time_series(self, som_m=None, idata=[], wsize=50, title=\"\"):\n",
    "        data_y = []\n",
    "        data_x = [i for i in range(0,len(idata))]\n",
    "        \n",
    "        data_x2 = []\n",
    "        data_y2 = []\n",
    "        \n",
    "        qmin = np.Inf\n",
    "        qmax = 0\n",
    "        \n",
    "        step=1\n",
    "        \n",
    "        ps = []\n",
    "        for v in idata:\n",
    "            matrix = np.sqrt(np.sum(np.power(self.weights - v, 2), axis=1))\n",
    "            position = np.argmin(matrix)\n",
    "            qerror = matrix[position]\n",
    "            if qmin > qerror: qmin = qerror\n",
    "            if qmax < qerror: qmax = qerror\n",
    "            ps.append((position, qerror))\n",
    "       \n",
    "        markerc=[]    \n",
    "        for v in ps:\n",
    "            data_y.extend([v[0]])\n",
    "            rez = v[1] / qmax\n",
    " \n",
    "            markerc.append('rgba(0, 0, 0, '+str(rez)+')') \n",
    "            \n",
    "            x,y = v[0] % self.n, v[0] // self.n \n",
    "            if    x == 0: y = np.random.uniform(low=y, high=y+.1)\n",
    "            elif  x == self.m - 1: y = np.random.uniform(low=y-.1, high=y)\n",
    "            elif  y == 0: x = np.random.uniform(low=x, high=x+.1)\n",
    "            elif  y == self.n - 1: x = np.random.uniform(low=x-.1, high=x)\n",
    "            else: x, y = np.random.uniform(low=x-.1, high=x+.1), np.random.uniform(low=y-.1, high=y+.1)                           \n",
    "            \n",
    "            data_x2.extend([x])\n",
    "            data_y2.extend([y]) \n",
    "    \n",
    "        ts_plot = go.FigureWidget(go.Scatter(x=[], y=[], mode=\"markers\", marker_color=markerc, marker=dict(colorscale=\"Viridis\", showscale=True, color=np.random.randn(500))))\n",
    "        ts_plot.update_xaxes(range=[0, wsize])       \n",
    "\n",
    "        ts_plot.data[0].x, ts_plot.data[0].y = data_x, data_y\n",
    "        som_m.add_trace(go.Scatter(x=data_x2, y=data_y2, mode=\"markers\"))\n",
    "  \n",
    "        som_m.layout.height = 500\n",
    "        ts_plot.layout.height = 500\n",
    "        som_m.layout.width = 500\n",
    "        ts_plot.layout.width = 1300\n",
    "        \n",
    "        return HBox([go.FigureWidget(som_m), go.FigureWidget(ts_plot)])\n",
    "\n",
    "\n",
    "    def plot(self, matrix, color=\"Viridis\", interp = \"best\", title=\"\"):\n",
    "        return go.FigureWidget(go.Heatmap(z=matrix, zsmooth=interp, colorscale=color), layout=go.Layout(width=700*self.n/self.m,  height=700, yaxis=dict(autorange='reversed'), title=title, title_x=0.5))"
   ]
  },
  {
   "cell_type": "code",
   "execution_count": 8,
   "metadata": {},
   "outputs": [],
   "source": [
    "import gzip\n",
    "import pandas as pd\n",
    "\n",
    "\n",
    "class SOMToolBox_Parse:\n",
    "    def __init__(self, filename):\n",
    "        self.filename = filename\n",
    "\n",
    "\n",
    "    def read_weight_file(self,):\n",
    "        df = pd.DataFrame()\n",
    "        if self.filename[-3:len(self.filename)] == '.gz':\n",
    "            with gzip.open(self.filename, 'rb') as file:\n",
    "                df, vec_dim, xdim, ydim = self._read_vector_file_to_df(df, file)\n",
    "        else:\n",
    "            with open(self.filename, 'rb') as file:\n",
    "                df, vec_dim, xdim, ydim = self._read_vector_file_to_df(df, file)\n",
    "\n",
    "        file.close()            \n",
    "        return df.astype('float64'), vec_dim, xdim, ydim\n",
    "\n",
    "\n",
    "    def _read_vector_file_to_df(self, df, file):\n",
    "        xdim, ydim, vec_dim, position = 0, 0, 0, 0\n",
    "        for byte in file:\n",
    "            line = byte.decode('UTF-8')\n",
    "            if line.startswith('$'):\n",
    "                xdim, ydim, vec_dim = self._parse_vector_file_metadata(line, xdim, ydim, vec_dim)\n",
    "                if xdim > 0 and ydim > 0 and len(df.columns) == 0:\n",
    "                    df = pd.DataFrame(index=range(0, ydim * xdim), columns=range(0, vec_dim))\n",
    "            else:\n",
    "                if len(df.columns) == 0 or vec_dim == 0:\n",
    "                    raise ValueError('Weight file has no correct Dimensional information.')\n",
    "                position = self._parse_weight_file_data(line, position, vec_dim, df)\n",
    "        return df, vec_dim, xdim, ydim\n",
    "\n",
    "\n",
    "    def _parse_weight_file_data(self, line, position, vec_dim, df):\n",
    "        splitted=line.split(' ')\n",
    "        try:\n",
    "            df.values[position] = list(np.array(splitted[0:vec_dim]).astype(float))\n",
    "            position += 1\n",
    "        except: raise ValueError('The input-vector file does not match its unit-dimension.') \n",
    "        return  position\n",
    "\n",
    "\n",
    "    def _parse_vector_file_metadata(self, line, xdim, ydim, vec_dim):\n",
    "        splitted = line.split(' ')\n",
    "        if splitted[0] == '$XDIM':      xdim = int(splitted[1])\n",
    "        elif splitted[0] == '$YDIM':    ydim = int(splitted[1])\n",
    "        elif splitted[0] == '$VEC_DIM': vec_dim = int(splitted[1])\n",
    "        return xdim, ydim, vec_dim  "
   ]
  },
  {
   "cell_type": "markdown",
   "metadata": {},
   "source": [
    "## 2. Evaluation"
   ]
  },
  {
   "cell_type": "markdown",
   "metadata": {},
   "source": [
    "For the evaluation of the different implementations we have used two datasets and two sizes of SOM. (40x20 -small and a 100x60 - large)\n",
    "\n",
    "The first dataset (left visualization below) is the so called chain link data set that contains two two-dimensional rings which are intertwined in a three-dimensional space. For the evaluation of the implementation the rings are projected on a two-dimensional space it which causes the rings to break. \n",
    "\n",
    "The second dataset (right visualization below) is the so called 10 clusters dataset. The clusters were generated from 10-dimensional gaussian distributions with different densities. For the evaluation of the implementation it is important that the the clusters are still visible on the two-dimensional projection. "
   ]
  },
  {
   "cell_type": "markdown",
   "metadata": {},
   "source": [
    "<table><tr><td><img src=\"images/chainlink-info.png\" width=\"350\"/></td><td><img src=\"images/10clusters-info.png\" width=\"350\"/></td></tr></table>"
   ]
  },
  {
   "cell_type": "code",
   "execution_count": 9,
   "metadata": {},
   "outputs": [],
   "source": [
    "import minisom as som\n",
    "from sklearn.preprocessing import MinMaxScaler\n",
    "\n",
    "small_m, small_n = 40, 20\n",
    "large_m, large_n = 100, 60"
   ]
  },
  {
   "cell_type": "markdown",
   "metadata": {},
   "source": [
    "### 2.1. Chain Link Dataset Small SOM"
   ]
  },
  {
   "cell_type": "code",
   "execution_count": 10,
   "metadata": {},
   "outputs": [
    {
     "name": "stdout",
     "output_type": "stream",
     "text": [
      " [ 30000 / 30000 ] 100% 0.01521 it/s"
     ]
    }
   ],
   "source": [
    "# Train\n",
    "chainlink = SOMToolBox_Parse('datasets/chainlink.vec')\n",
    "chainlink, _, _, _ = chainlink.read_weight_file()\n",
    "chainlink = MinMaxScaler().fit_transform(chainlink)\n",
    "chainlink_dim = chainlink.shape[-1]\n",
    "\n",
    "chainlink_small = som.MiniSom(small_m, small_n, chainlink_dim, sigma=0.5, learning_rate=0.1)\n",
    "chainlink_small.train_random(chainlink, 30000, verbose=True)\n",
    "\n",
    "# Visualizaton\n",
    "chainlink_small_viz = SomViz(chainlink_small._weights.reshape(-1, chainlink_dim), small_m, small_n)"
   ]
  },
  {
   "cell_type": "code",
   "execution_count": 11,
   "metadata": {},
   "outputs": [
    {
     "data": {
      "application/vnd.jupyter.widget-view+json": {
       "model_id": "eb0752765fa14d0fba22490f0214de35",
       "version_major": 2,
       "version_minor": 0
      },
      "text/plain": [
       "HBox(children=(FigureWidget({\n",
       "    'data': [{'colorscale': [[0.0, '#440154'], [0.1111111111111111, '#482878'],\n",
       "…"
      ]
     },
     "metadata": {},
     "output_type": "display_data"
    }
   ],
   "source": [
    "chainlink_small_pm1 = chainlink_small_viz.pmatrix(idata=chainlink, perc=1, title='P-matrix (1 percentile)')\n",
    "chainlink_small_pm5 = chainlink_small_viz.pmatrix(idata=chainlink, perc=5, title='P-matrix (5 percentile)')\n",
    "chainlink_small_pm18 = chainlink_small_viz.pmatrix(idata=chainlink, perc=18, title='P-matrix (18 percentile)')\n",
    "chainlink_small_pm50 = chainlink_small_viz.pmatrix(idata=chainlink, perc=50, title='P-matrix (50 percentile)')\n",
    "\n",
    "display(HBox([chainlink_small_pm1, chainlink_small_pm5, chainlink_small_pm18, chainlink_small_pm50]))"
   ]
  },
  {
   "cell_type": "markdown",
   "metadata": {},
   "source": [
    "For all of the above visualizations the two rings and the break is not clearly visible. Increasing the percentile does give especially for the bottom of the visualization a ring like structure but the other ring and the break are not clearly visible."
   ]
  },
  {
   "cell_type": "code",
   "execution_count": 12,
   "metadata": {},
   "outputs": [
    {
     "data": {
      "application/vnd.jupyter.widget-view+json": {
       "model_id": "eb7dcfc3263f4d3b828329fb58590bdc",
       "version_major": 2,
       "version_minor": 0
      },
      "text/plain": [
       "HBox(children=(FigureWidget({\n",
       "    'data': [{'colorscale': [[0.0, '#440154'], [0.1111111111111111, '#482878'],\n",
       "…"
      ]
     },
     "metadata": {},
     "output_type": "display_data"
    }
   ],
   "source": [
    "chainlink_small_um = chainlink_small_viz.umatrix(title='U-matrix')\n",
    "\n",
    "chainlink_small_usm1 = chainlink_small_viz.usmatrix(idata=chainlink, perc=1, title='U*-matrix (1 percentile)')\n",
    "chainlink_small_usm5 = chainlink_small_viz.usmatrix(idata=chainlink, perc=5, title='U*-matrix (5 percentile)')\n",
    "chainlink_small_usm18 = chainlink_small_viz.usmatrix(idata=chainlink, perc=18, title='U*-matrix (18 percentile)')\n",
    "chainlink_small_usm50 = chainlink_small_viz.usmatrix(idata=chainlink, perc=50, title='U*-matrix (50 percentile)')\n",
    "\n",
    "display(HBox([chainlink_small_um, chainlink_small_usm1, chainlink_small_usm5, chainlink_small_usm18, chainlink_small_usm50]))"
   ]
  },
  {
   "cell_type": "markdown",
   "metadata": {},
   "source": [
    "As for the U-Matrix we do have similar issues as with the p-matrix. Ring like structures can be observed but not more. "
   ]
  },
  {
   "cell_type": "code",
   "execution_count": 13,
   "metadata": {},
   "outputs": [
    {
     "data": {
      "application/vnd.jupyter.widget-view+json": {
       "model_id": "166cd597c5f54b5a93c334e8527c78bb",
       "version_major": 2,
       "version_minor": 0
      },
      "text/plain": [
       "HBox(children=(FigureWidget({\n",
       "    'data': [{'colorscale': [[0.0, '#440154'], [0.1111111111111111, '#482878'],\n",
       "…"
      ]
     },
     "metadata": {},
     "output_type": "display_data"
    }
   ],
   "source": [
    "chainlink_small_qe = chainlink_small_viz.qe(idata=chainlink, title='Quantization error ')\n",
    "chainlink_small_mqe = chainlink_small_viz.mqe(idata=chainlink, title='Mean quantization error ')\n",
    "\n",
    "display(HBox([chainlink_small_qe, chainlink_small_mqe]))"
   ]
  },
  {
   "cell_type": "markdown",
   "metadata": {},
   "source": [
    "The quantization error visualizations clearly gives a ring like structure for the bottom ring. The top ring can also not be observed very clearly, however a break in the bottom ring is observable. This type of visualization worked best for the problem at hand though."
   ]
  },
  {
   "cell_type": "markdown",
   "metadata": {},
   "source": [
    "### 2.2. Chain Link Dataset Large SOM"
   ]
  },
  {
   "cell_type": "code",
   "execution_count": 16,
   "metadata": {},
   "outputs": [
    {
     "name": "stdout",
     "output_type": "stream",
     "text": [
      " [ 5000 / 5000 ] 100% 0.11525 it/s"
     ]
    }
   ],
   "source": [
    "# Train\n",
    "chainlink_large = som.MiniSom(large_m, large_n, chainlink_dim, sigma=0.8, learning_rate=0.7)\n",
    "chainlink_large.train_random(chainlink, 5000, verbose=True)\n",
    "\n",
    "# Visualizaton\n",
    "chainlink_large_viz = SomViz(chainlink_large._weights.reshape(-1, chainlink_dim), large_m, large_n)"
   ]
  },
  {
   "cell_type": "code",
   "execution_count": 17,
   "metadata": {},
   "outputs": [
    {
     "data": {
      "application/vnd.jupyter.widget-view+json": {
       "model_id": "d1cbbee464324340b7ba2545a981b6c8",
       "version_major": 2,
       "version_minor": 0
      },
      "text/plain": [
       "HBox(children=(FigureWidget({\n",
       "    'data': [{'colorscale': [[0.0, '#440154'], [0.1111111111111111, '#482878'],\n",
       "…"
      ]
     },
     "metadata": {},
     "output_type": "display_data"
    }
   ],
   "source": [
    "chainlink_large_pm1 = chainlink_large_viz.pmatrix(idata=chainlink, perc=1, title='P-matrix (1 percentile)')\n",
    "chainlink_large_pm5 = chainlink_large_viz.pmatrix(idata=chainlink, perc=5, title='P-matrix (5 percentile)')\n",
    "chainlink_large_pm18 = chainlink_large_viz.pmatrix(idata=chainlink, perc=18, title='P-matrix (18 percentile)')\n",
    "chainlink_large_pm50 = chainlink_large_viz.pmatrix(idata=chainlink, perc=50, title='P-matrix (50 percentile)')\n",
    "\n",
    "display(HBox([chainlink_large_pm1, chainlink_large_pm5, chainlink_large_pm18, chainlink_large_pm50]))"
   ]
  },
  {
   "cell_type": "code",
   "execution_count": 18,
   "metadata": {},
   "outputs": [
    {
     "data": {
      "application/vnd.jupyter.widget-view+json": {
       "model_id": "c0f5a2aa392a446da9fdc74d9d5d6cf6",
       "version_major": 2,
       "version_minor": 0
      },
      "text/plain": [
       "HBox(children=(FigureWidget({\n",
       "    'data': [{'colorscale': [[0.0, '#440154'], [0.1111111111111111, '#482878'],\n",
       "…"
      ]
     },
     "metadata": {},
     "output_type": "display_data"
    },
    {
     "data": {
      "application/vnd.jupyter.widget-view+json": {
       "model_id": "549a66129257488c8b7cbdd7b65a9ecd",
       "version_major": 2,
       "version_minor": 0
      },
      "text/plain": [
       "HBox(children=(FigureWidget({\n",
       "    'data': [{'colorscale': [[0.0, '#440154'], [0.1111111111111111, '#482878'],\n",
       "…"
      ]
     },
     "metadata": {},
     "output_type": "display_data"
    }
   ],
   "source": [
    "chainlink_large_um = chainlink_large_viz.umatrix(title='U-matrix')\n",
    "\n",
    "chainlink_large_usm1 = chainlink_large_viz.usmatrix(idata=chainlink, perc=1, title='U*-matrix (1 percentile)')\n",
    "chainlink_large_usm5 = chainlink_large_viz.usmatrix(idata=chainlink, perc=5, title='U*-matrix (5 percentile)')\n",
    "chainlink_large_usm18 = chainlink_large_viz.usmatrix(idata=chainlink, perc=18, title='U*-matrix (18 percentile)')\n",
    "chainlink_large_usm50 = chainlink_large_viz.usmatrix(idata=chainlink, perc=50, title='U*-matrix (50 percentile)')\n",
    "\n",
    "display(HBox([chainlink_large_um, chainlink_large_usm1, chainlink_large_usm5]))\n",
    "display(HBox([chainlink_large_usm18, chainlink_large_usm50]))"
   ]
  },
  {
   "cell_type": "code",
   "execution_count": 19,
   "metadata": {},
   "outputs": [
    {
     "data": {
      "application/vnd.jupyter.widget-view+json": {
       "model_id": "f389be0db8734c85a2c687c5a5145dfd",
       "version_major": 2,
       "version_minor": 0
      },
      "text/plain": [
       "HBox(children=(FigureWidget({\n",
       "    'data': [{'colorscale': [[0.0, '#440154'], [0.1111111111111111, '#482878'],\n",
       "…"
      ]
     },
     "metadata": {},
     "output_type": "display_data"
    }
   ],
   "source": [
    "chainlink_large_qe = chainlink_large_viz.qe(idata=chainlink, title='Quantization error ')\n",
    "chainlink_large_mqe = chainlink_large_viz.mqe(idata=chainlink, title='Mean quantization error ')\n",
    "\n",
    "display(HBox([chainlink_large_qe, chainlink_large_mqe]))"
   ]
  },
  {
   "cell_type": "markdown",
   "metadata": {},
   "source": [
    "Increasing the size of the SOM would not yield better results quite the contrary we do observe less structure then bevore. Increasing the number of training iterations and \"playing\" with the training parameters would in general not improve the results. "
   ]
  },
  {
   "cell_type": "markdown",
   "metadata": {},
   "source": [
    "### 2.3. 10 Clusters Dataset Small SOM"
   ]
  },
  {
   "cell_type": "code",
   "execution_count": 20,
   "metadata": {},
   "outputs": [
    {
     "name": "stdout",
     "output_type": "stream",
     "text": [
      " [ 10000 / 10000 ] 100% 0.01527 it/s"
     ]
    }
   ],
   "source": [
    "# Train\n",
    "clusters = SOMToolBox_Parse('datasets/clusters.vec')\n",
    "clusters, _, _, _ = clusters.read_weight_file()\n",
    "clusters = MinMaxScaler().fit_transform(clusters)\n",
    "clusters_dim = clusters.shape[-1]\n",
    "\n",
    "clusters_small = som.MiniSom(small_m, small_n, clusters_dim, sigma=0.8, learning_rate=0.7)\n",
    "clusters_small.train_random(clusters, 10000, verbose=True)\n",
    "\n",
    "# Visualizaton\n",
    "clusters_small_viz = SomViz(clusters_small._weights.reshape(-1, clusters_dim), small_m, small_n)"
   ]
  },
  {
   "cell_type": "code",
   "execution_count": 21,
   "metadata": {},
   "outputs": [
    {
     "data": {
      "application/vnd.jupyter.widget-view+json": {
       "model_id": "3304566fea9c4bf291fcc819e197ca8b",
       "version_major": 2,
       "version_minor": 0
      },
      "text/plain": [
       "HBox(children=(FigureWidget({\n",
       "    'data': [{'colorscale': [[0.0, '#440154'], [0.1111111111111111, '#482878'],\n",
       "…"
      ]
     },
     "metadata": {},
     "output_type": "display_data"
    }
   ],
   "source": [
    "clusters_small_pm1 = clusters_small_viz.pmatrix(idata=clusters, perc=1, title='P-matrix (1 percentile)')\n",
    "clusters_small_pm5 = clusters_small_viz.pmatrix(idata=clusters, perc=5, title='P-matrix (5 percentile)')\n",
    "clusters_small_pm18 = clusters_small_viz.pmatrix(idata=clusters, perc=18, title='P-matrix (18 percentile)')\n",
    "clusters_small_pm50 = clusters_small_viz.pmatrix(idata=clusters, perc=50, title='P-matrix (50 percentile)')\n",
    "\n",
    "display(HBox([clusters_small_pm1, clusters_small_pm5, clusters_small_pm18, clusters_small_pm50]))"
   ]
  },
  {
   "cell_type": "markdown",
   "metadata": {},
   "source": [
    "As described in the introduction of the evaluation for the clusters dataset it is important that 10 distinct are visible in the visualization. For the high percentile P-matrices we can observe distinct clusters but they are to few and the borders are not sharp/clearly observable. "
   ]
  },
  {
   "cell_type": "code",
   "execution_count": 22,
   "metadata": {},
   "outputs": [
    {
     "data": {
      "application/vnd.jupyter.widget-view+json": {
       "model_id": "544ff53fd42f464fa5e5c93080547c4d",
       "version_major": 2,
       "version_minor": 0
      },
      "text/plain": [
       "HBox(children=(FigureWidget({\n",
       "    'data': [{'colorscale': [[0.0, '#440154'], [0.1111111111111111, '#482878'],\n",
       "…"
      ]
     },
     "metadata": {},
     "output_type": "display_data"
    }
   ],
   "source": [
    "clusters_small_um = clusters_small_viz.umatrix(title='U-matrix')\n",
    "\n",
    "clusters_small_usm1 = clusters_small_viz.usmatrix(idata=clusters, perc=1, title='U*-matrix (1 percentile)')\n",
    "clusters_small_usm5 = clusters_small_viz.usmatrix(idata=clusters, perc=5, title='U*-matrix (5 percentile)')\n",
    "clusters_small_usm18 = clusters_small_viz.usmatrix(idata=clusters, perc=18, title='U*-matrix (18 percentile)')\n",
    "clusters_small_usm50 = clusters_small_viz.usmatrix(idata=clusters, perc=50, title='U*-matrix (50 percentile)')\n",
    "\n",
    "display(HBox([clusters_small_um, clusters_small_usm1, clusters_small_usm5, clusters_small_usm18, clusters_small_usm50]))"
   ]
  },
  {
   "cell_type": "markdown",
   "metadata": {},
   "source": [
    "For the U-Matrix we do observe similar issues as with the P-Matrix. There are however clear borders visible."
   ]
  },
  {
   "cell_type": "code",
   "execution_count": 23,
   "metadata": {},
   "outputs": [
    {
     "data": {
      "application/vnd.jupyter.widget-view+json": {
       "model_id": "4c75fa5826e04d8ba2d999673bddf710",
       "version_major": 2,
       "version_minor": 0
      },
      "text/plain": [
       "HBox(children=(FigureWidget({\n",
       "    'data': [{'colorscale': [[0.0, '#440154'], [0.1111111111111111, '#482878'],\n",
       "…"
      ]
     },
     "metadata": {},
     "output_type": "display_data"
    }
   ],
   "source": [
    "clusters_small_qe = clusters_small_viz.qe(idata=clusters, title='Quantization error ')\n",
    "clusters_small_mqe = clusters_small_viz.mqe(idata=clusters, title='Mean quantization error ')\n",
    "\n",
    "display(HBox([clusters_small_qe, clusters_small_mqe]))"
   ]
  },
  {
   "cell_type": "markdown",
   "metadata": {},
   "source": [
    "The quantization error implementation yields very good results. The ten clusters are nicely visible and clearly seperated."
   ]
  },
  {
   "cell_type": "markdown",
   "metadata": {},
   "source": [
    "### 2.4 Clusters Dataset Large SOM"
   ]
  },
  {
   "cell_type": "code",
   "execution_count": 25,
   "metadata": {},
   "outputs": [
    {
     "name": "stdout",
     "output_type": "stream",
     "text": [
      " [ 5000 / 5000 ] 100% 0.11133 it/s"
     ]
    }
   ],
   "source": [
    "# Train\n",
    "clusters_large = som.MiniSom(large_m, large_n, clusters_dim, sigma=0.8, learning_rate=0.7)\n",
    "clusters_large.train_random(clusters, 5000, verbose=True)\n",
    "\n",
    "# Visualizaton\n",
    "clusters_large_viz = SomViz(clusters_large._weights.reshape(-1, clusters_dim), large_m, large_n)"
   ]
  },
  {
   "cell_type": "code",
   "execution_count": 26,
   "metadata": {},
   "outputs": [
    {
     "data": {
      "application/vnd.jupyter.widget-view+json": {
       "model_id": "e942514f747b4bc8b9546d48fafdfc0b",
       "version_major": 2,
       "version_minor": 0
      },
      "text/plain": [
       "HBox(children=(FigureWidget({\n",
       "    'data': [{'colorscale': [[0.0, '#440154'], [0.1111111111111111, '#482878'],\n",
       "…"
      ]
     },
     "metadata": {},
     "output_type": "display_data"
    }
   ],
   "source": [
    "clusters_large_pm1 = clusters_large_viz.pmatrix(idata=clusters, perc=1, title='P-matrix (1 percentile)')\n",
    "clusters_large_pm5 = clusters_large_viz.pmatrix(idata=clusters, perc=5, title='P-matrix (5 percentile)')\n",
    "clusters_large_pm18 = clusters_large_viz.pmatrix(idata=clusters, perc=18, title='P-matrix (18 percentile)')\n",
    "clusters_large_pm50 = clusters_large_viz.pmatrix(idata=clusters, perc=50, title='P-matrix (50 percentile)')\n",
    "\n",
    "display(HBox([clusters_large_pm1, clusters_large_pm5, clusters_large_pm18, clusters_large_pm50]))"
   ]
  },
  {
   "cell_type": "code",
   "execution_count": 27,
   "metadata": {},
   "outputs": [
    {
     "data": {
      "application/vnd.jupyter.widget-view+json": {
       "model_id": "3e48521e4fd54d3aa32321695552f0a4",
       "version_major": 2,
       "version_minor": 0
      },
      "text/plain": [
       "HBox(children=(FigureWidget({\n",
       "    'data': [{'colorscale': [[0.0, '#440154'], [0.1111111111111111, '#482878'],\n",
       "…"
      ]
     },
     "metadata": {},
     "output_type": "display_data"
    },
    {
     "data": {
      "application/vnd.jupyter.widget-view+json": {
       "model_id": "4de1a2ddb7264b239c2d7d56cb2dd830",
       "version_major": 2,
       "version_minor": 0
      },
      "text/plain": [
       "HBox(children=(FigureWidget({\n",
       "    'data': [{'colorscale': [[0.0, '#440154'], [0.1111111111111111, '#482878'],\n",
       "…"
      ]
     },
     "metadata": {},
     "output_type": "display_data"
    }
   ],
   "source": [
    "clusters_large_um = clusters_large_viz.umatrix(title='U-matrix')\n",
    "\n",
    "clusters_large_usm1 = clusters_large_viz.usmatrix(idata=clusters, perc=1, title='U*-matrix (1 percentile)')\n",
    "clusters_large_usm5 = clusters_large_viz.usmatrix(idata=clusters, perc=5, title='U*-matrix (5 percentile)')\n",
    "clusters_large_usm18 = clusters_large_viz.usmatrix(idata=clusters, perc=18, title='U*-matrix (18 percentile)')\n",
    "clusters_large_usm50 = clusters_large_viz.usmatrix(idata=clusters, perc=50, title='U*-matrix (50 percentile)')\n",
    "\n",
    "display(HBox([clusters_large_um, clusters_large_usm1, clusters_large_usm5]))\n",
    "display(HBox([clusters_large_usm18, clusters_large_usm50]))"
   ]
  },
  {
   "cell_type": "code",
   "execution_count": 28,
   "metadata": {},
   "outputs": [
    {
     "data": {
      "application/vnd.jupyter.widget-view+json": {
       "model_id": "93ea6633eac5409bb04c3dc089c6bab0",
       "version_major": 2,
       "version_minor": 0
      },
      "text/plain": [
       "HBox(children=(FigureWidget({\n",
       "    'data': [{'colorscale': [[0.0, '#440154'], [0.1111111111111111, '#482878'],\n",
       "…"
      ]
     },
     "metadata": {},
     "output_type": "display_data"
    }
   ],
   "source": [
    "clusters_large_qe = clusters_large_viz.qe(idata=clusters, title='Quantization error ')\n",
    "clusters_large_mqe = clusters_large_viz.mqe(idata=clusters, title='Mean quantization error ')\n",
    "\n",
    "display(HBox([clusters_large_qe, clusters_large_mqe]))"
   ]
  },
  {
   "cell_type": "markdown",
   "metadata": {},
   "source": [
    "As for the large SOM for the clusters data set we do observe similar behaviour then for the small SOM. However the different clusters are harder to make out for the quantization error simply by there size."
   ]
  },
  {
   "cell_type": "markdown",
   "metadata": {},
   "source": [
    "### 2.5. Chain Link Dataset Pre-Trained SOM"
   ]
  },
  {
   "cell_type": "code",
   "execution_count": 29,
   "metadata": {
    "scrolled": false
   },
   "outputs": [],
   "source": [
    "# Read from SOMToolBox\n",
    "chainlink = SOMToolBox_Parse('datasets/chainlink.vec')\n",
    "chainlink, _, _, _ = chainlink.read_weight_file()\n",
    "\n",
    "chainlink_pretrained = SOMToolBox_Parse('datasets/chainlink.wgt.gz')\n",
    "chainlink_pretrained, chainlink_dim, chainlink_n, chainlink_m = chainlink_pretrained.read_weight_file()\n",
    "\n",
    "# Visualizaton\n",
    "chainlink_viz = SomViz(chainlink_pretrained.values.reshape(-1, chainlink_dim), chainlink_m, chainlink_n)"
   ]
  },
  {
   "cell_type": "code",
   "execution_count": 30,
   "metadata": {},
   "outputs": [
    {
     "data": {
      "application/vnd.jupyter.widget-view+json": {
       "model_id": "522abf3ea5074628884af78271003c78",
       "version_major": 2,
       "version_minor": 0
      },
      "text/plain": [
       "HBox(children=(FigureWidget({\n",
       "    'data': [{'colorscale': [[0.0, 'rgb(255,245,240)'], [0.125,\n",
       "                …"
      ]
     },
     "metadata": {},
     "output_type": "display_data"
    }
   ],
   "source": [
    "chainlink_pm1 = chainlink_viz.pmatrix(color='reds', idata=chainlink, perc=1, title='P-matrix (1 percentile)')\n",
    "chainlink_pm5 = chainlink_viz.pmatrix(color='reds', idata=chainlink, perc=5, title='P-matrix (5 percentile)')\n",
    "chainlink_pm18 = chainlink_viz.pmatrix(color='reds', idata=chainlink, perc=18, title='P-matrix (18 percentile)')\n",
    "chainlink_pm50 = chainlink_viz.pmatrix(color='reds', idata=chainlink, perc=50, title='P-matrix (50 percentile)')\n",
    "\n",
    "display(HBox([chainlink_pm1, chainlink_pm5, chainlink_pm18, chainlink_pm50]))"
   ]
  },
  {
   "cell_type": "markdown",
   "metadata": {},
   "source": [
    "<table><tr><td><img src=\"images/PMatrix__palette=Redscale32_interpolated__perc=1.png\" width=\"350\"/></td><td><img src=\"images/PMatrix__palette=Redscale32_interpolated__perc=5.png\" width=\"350\"/></td><td><img src=\"images/PMatrix__palette=Redscale32_interpolated__perc=18.png\" width=\"350\"/></td><td><img src=\"images/PMatrix__palette=Redscale32_interpolated__perc=50.png\" width=\"350\"/></td></tr></table>"
   ]
  },
  {
   "cell_type": "code",
   "execution_count": 31,
   "metadata": {},
   "outputs": [
    {
     "data": {
      "application/vnd.jupyter.widget-view+json": {
       "model_id": "a9eae1f5c1204f2197fd36f1b96c710f",
       "version_major": 2,
       "version_minor": 0
      },
      "text/plain": [
       "HBox(children=(FigureWidget({\n",
       "    'data': [{'colorscale': [[0.0, 'rgb(255,245,240)'], [0.125,\n",
       "                …"
      ]
     },
     "metadata": {},
     "output_type": "display_data"
    },
    {
     "data": {
      "application/vnd.jupyter.widget-view+json": {
       "model_id": "63ca6bcb7384490285b69ad3609e5a08",
       "version_major": 2,
       "version_minor": 0
      },
      "text/plain": [
       "HBox(children=(FigureWidget({\n",
       "    'data': [{'colorscale': [[0.0, 'rgb(103,0,13)'], [0.125, 'rgb(165,15,21)'],\n",
       "…"
      ]
     },
     "metadata": {},
     "output_type": "display_data"
    }
   ],
   "source": [
    "chainlink_um = chainlink_viz.umatrix(color='reds', title='U-matrix')\n",
    "\n",
    "chainlink_usm1 = chainlink_viz.usmatrix(color='reds_r', idata=chainlink, perc=1, title='U*-matrix (1 percentile)')\n",
    "chainlink_usm5 = chainlink_viz.usmatrix(color='reds_r', idata=chainlink, perc=5, title='U*-matrix (5 percentile)')\n",
    "chainlink_usm18 = chainlink_viz.usmatrix(color='reds_r', idata=chainlink, perc=18, title='U*-matrix (18 percentile)')\n",
    "chainlink_usm50 = chainlink_viz.usmatrix(color='reds_r', idata=chainlink, perc=50, title='U*-matrix (50 percentile)')\n",
    "\n",
    "display(HBox([chainlink_um, chainlink_usm1, chainlink_usm5]))\n",
    "display(HBox([chainlink_usm18, chainlink_usm50]))"
   ]
  },
  {
   "cell_type": "markdown",
   "metadata": {},
   "source": [
    "<table><tr><td><img src=\"images/UMatrix__palette=Redscale32_interpolated.png\" width=\"350\"/></td><td><img src=\"images/UStarMatrix__palette=Redscale32_interpolated__perc=1.png\" width=\"350\"/></td><td><img src=\"images/UStarMatrix__palette=Redscale32_interpolated__perc=5.png\" width=\"350\"/></td><td><img src=\"images/UStarMatrix__palette=Redscale32_interpolated__perc=18.png\" width=\"350\"/></td><td><img src=\"images/UStarMatrix__palette=Redscale32_interpolated__perc=50.png\" width=\"350\"/></td></tr></table>"
   ]
  },
  {
   "cell_type": "code",
   "execution_count": 32,
   "metadata": {},
   "outputs": [
    {
     "data": {
      "application/vnd.jupyter.widget-view+json": {
       "model_id": "cdef83f5c9024eecb7cb6748d81ca29d",
       "version_major": 2,
       "version_minor": 0
      },
      "text/plain": [
       "HBox(children=(FigureWidget({\n",
       "    'data': [{'colorscale': [[0.0, 'rgb(255,245,240)'], [0.125,\n",
       "                …"
      ]
     },
     "metadata": {},
     "output_type": "display_data"
    }
   ],
   "source": [
    "chainlink_qe = chainlink_viz.qe(color='reds', idata=chainlink, title='Quantization error ')\n",
    "chainlink_mqe = chainlink_viz.mqe(color='reds', idata=chainlink, title='Mean quantization error ')\n",
    "\n",
    "display(HBox([chainlink_qe, chainlink_mqe]))"
   ]
  },
  {
   "cell_type": "markdown",
   "metadata": {},
   "source": [
    "<table><tr><td><img src='images/QuantizationErr__palette=Redscale32.png' width='350'></td><td><img src='images/MeanQuantizationErr__palette=Redscale32.png' width='350'></td></tr></table>"
   ]
  },
  {
   "cell_type": "markdown",
   "metadata": {},
   "source": [
    "All of the above visualizations do look the same wheter they are coming from the Java SOMToolbox or if they are coming from our implementations which verifies the correctness of the implementation. There was only one issue with generation the quantization error visualization through the Java SOMToolbox as desribed in the TUWEL forum. We tried to rebuild the Toolbox with the suggested fix but finally couldn't run it."
   ]
  }
 ],
 "metadata": {
  "kernelspec": {
   "display_name": "Python 3",
   "language": "python",
   "name": "python3"
  },
  "language_info": {
   "codemirror_mode": {
    "name": "ipython",
    "version": 3
   },
   "file_extension": ".py",
   "mimetype": "text/x-python",
   "name": "python",
   "nbconvert_exporter": "python",
   "pygments_lexer": "ipython3",
   "version": "3.7.1"
  }
 },
 "nbformat": 4,
 "nbformat_minor": 2
}
